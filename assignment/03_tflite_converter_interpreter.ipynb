{
 "metadata": {
  "language_info": {
   "codemirror_mode": {
    "name": "ipython",
    "version": 3
   },
   "file_extension": ".py",
   "mimetype": "text/x-python",
   "name": "python",
   "nbconvert_exporter": "python",
   "pygments_lexer": "ipython3",
   "version": "3.8.9"
  },
  "orig_nbformat": 2,
  "kernelspec": {
   "name": "pythonjvsc74a57bd008e40f887b56808e313eb4ed49852fcc981dbd42635ac7ab6c2fa3fa59d47efa",
   "display_name": "Python 3.8.9  ('.venv': venv)"
  },
  "metadata": {
   "interpreter": {
    "hash": "08e40f887b56808e313eb4ed49852fcc981dbd42635ac7ab6c2fa3fa59d47efa"
   }
  }
 },
 "nbformat": 4,
 "nbformat_minor": 2,
 "cells": [
  {
   "source": [
    "As a first step, let's import the python modules we need."
   ],
   "cell_type": "markdown",
   "metadata": {}
  },
  {
   "cell_type": "code",
   "execution_count": 1,
   "metadata": {},
   "outputs": [],
   "source": [
    "import numpy as np\n",
    "import tensorflow as tf"
   ]
  },
  {
   "source": [
    "### Convert a SavedModel (**recommended**)\n",
    "\n",
    "The following example shows how to convert a [SavedModel](https://www.tensorflow.org/guide/saved_model) into a TensorFlow Lite model."
   ],
   "cell_type": "markdown",
   "metadata": {}
  },
  {
   "cell_type": "code",
   "execution_count": 2,
   "metadata": {},
   "outputs": [],
   "source": [
    "# Convert the model (let's use the saved model from the previous exercise)\n",
    "converter = tf.lite.TFLiteConverter.from_saved_model('./model/ssd_mobilenet_v2_fpnlite_640x640_coco17_tpu-8/saved_model') # path to the SavedModel directory\n",
    "tflite_model = converter.convert()\n",
    "\n",
    "# Save the model\n",
    "with open('./model/saved_tflite_models/model_1.tflite', 'wb') as f:\n",
    "  f.write(tflite_model)"
   ]
  },
  {
   "cell_type": "code",
   "execution_count": null,
   "metadata": {},
   "outputs": [],
   "source": []
  }
 ]
}